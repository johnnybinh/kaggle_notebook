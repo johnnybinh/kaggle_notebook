{
  "nbformat": 4,
  "nbformat_minor": 0,
  "metadata": {
    "colab": {
      "provenance": [],
      "gpuType": "T4",
      "include_colab_link": true
    },
    "kernelspec": {
      "name": "python3",
      "display_name": "Python 3"
    },
    "language_info": {
      "name": "python"
    },
    "accelerator": "GPU"
  },
  "cells": [
    {
      "cell_type": "markdown",
      "metadata": {
        "id": "view-in-github",
        "colab_type": "text"
      },
      "source": [
        "<a href=\"https://colab.research.google.com/github/johnnybinh/kaggle_notebook/blob/main/pytorch_workflow_exercises.ipynb\" target=\"_parent\"><img src=\"https://colab.research.google.com/assets/colab-badge.svg\" alt=\"Open In Colab\"/></a>"
      ]
    },
    {
      "cell_type": "markdown",
      "source": [
        "# 01. PyTorch Workflow Exercise Template\n",
        "\n",
        "The following is a template for the PyTorch workflow exercises.\n",
        "\n",
        "It's only starter code and it's your job to fill in the blanks.\n",
        "\n",
        "Because of the flexibility of PyTorch, there may be more than one way to answer the question.\n",
        "\n",
        "Don't worry about trying to be *right* just try writing code that suffices the question.\n",
        "\n"
      ],
      "metadata": {
        "id": "N8LsPXZti9Sw"
      }
    },
    {
      "cell_type": "code",
      "source": [
        "# Import necessary libraries\n",
        "import torch\n",
        "from torch import nn\n",
        "import matplotlib.pyplot as plt\n"
      ],
      "metadata": {
        "id": "Glu2fM4dkNlx"
      },
      "execution_count": 1,
      "outputs": []
    },
    {
      "cell_type": "code",
      "source": [
        "# Setup device-agnostic code\n",
        "cuda = torch.device('cuda')"
      ],
      "metadata": {
        "id": "LqKhXY26m31s"
      },
      "execution_count": 2,
      "outputs": []
    },
    {
      "cell_type": "markdown",
      "source": [
        "## 1. Create a straight line dataset using the linear regression formula (`weight * X + bias`).\n",
        "  * Set `weight=0.3` and `bias=0.9` there should be at least 100 datapoints total.\n",
        "  * Split the data into 80% training, 20% testing.\n",
        "  * Plot the training and testing data so it becomes visual.\n",
        "\n",
        "Your output of the below cell should look something like:\n",
        "```\n",
        "Number of X samples: 100\n",
        "Number of y samples: 100\n",
        "First 10 X & y samples:\n",
        "X: tensor([0.0000, 0.0100, 0.0200, 0.0300, 0.0400, 0.0500, 0.0600, 0.0700, 0.0800,\n",
        "        0.0900])\n",
        "y: tensor([0.9000, 0.9030, 0.9060, 0.9090, 0.9120, 0.9150, 0.9180, 0.9210, 0.9240,\n",
        "        0.9270])\n",
        "```\n",
        "\n",
        "Of course the numbers in `X` and `y` may be different but ideally they're created using the linear regression formula."
      ],
      "metadata": {
        "id": "g7HUhxCxjeBx"
      }
    },
    {
      "cell_type": "code",
      "source": [
        "# Create the data parameters\n",
        "bias = 0.9\n",
        "weight = 0.3\n",
        "\n",
        "# Make X and y using linear regression feature\n",
        "X = torch.arange(0,1,0.01).unsqueeze(1)\n",
        "y = weight*X+bias\n",
        "\n",
        "print(f\"Number of X samples: {len(X)}\")\n",
        "print(f\"Number of y samples: {len(y)}\")\n",
        "print(f\"First 10 X & y samples:\\nX: {X[:10]}\\ny: {y[:10]}\")"
      ],
      "metadata": {
        "id": "KbDG5MV7jhvE",
        "outputId": "ab252681-2f03-4a76-f348-2f9ce73b9bd9",
        "colab": {
          "base_uri": "https://localhost:8080/"
        }
      },
      "execution_count": 3,
      "outputs": [
        {
          "output_type": "stream",
          "name": "stdout",
          "text": [
            "Number of X samples: 100\n",
            "Number of y samples: 100\n",
            "First 10 X & y samples:\n",
            "X: tensor([[0.0000],\n",
            "        [0.0100],\n",
            "        [0.0200],\n",
            "        [0.0300],\n",
            "        [0.0400],\n",
            "        [0.0500],\n",
            "        [0.0600],\n",
            "        [0.0700],\n",
            "        [0.0800],\n",
            "        [0.0900]])\n",
            "y: tensor([[0.9000],\n",
            "        [0.9030],\n",
            "        [0.9060],\n",
            "        [0.9090],\n",
            "        [0.9120],\n",
            "        [0.9150],\n",
            "        [0.9180],\n",
            "        [0.9210],\n",
            "        [0.9240],\n",
            "        [0.9270]])\n"
          ]
        }
      ]
    },
    {
      "cell_type": "code",
      "source": [
        "# Split the data into training and testing\n",
        "\n",
        "split = int(0.8*(len(X)))\n",
        "X_train, y_train = X[:split],y[:split]\n",
        "X_test, y_test = X[split:],y[split:]"
      ],
      "metadata": {
        "id": "GlwtT1djkmLw"
      },
      "execution_count": 4,
      "outputs": []
    },
    {
      "cell_type": "code",
      "source": [
        "# Plot the training and testing data\n",
        "def plot_fn(xtrain= X_train, ytrain = y_train,xtest= X_test,ytest=y_test):\n",
        "\n",
        "    plt.scatter(xtrain,ytrain,c='b',s=4, label='training')\n",
        "    plt.scatter(xtest,ytest,c='r',s=4, label='training')\n",
        "\n",
        "    plt.legend()\n",
        "    plt.plot()\n",
        "\n",
        "plot_fn()"
      ],
      "metadata": {
        "id": "29iQZFNhlYJ-",
        "outputId": "89aba1a1-a56b-4f73-945a-c83f66fa6aa0",
        "colab": {
          "base_uri": "https://localhost:8080/",
          "height": 430
        }
      },
      "execution_count": 5,
      "outputs": [
        {
          "output_type": "display_data",
          "data": {
            "text/plain": [
              "<Figure size 640x480 with 1 Axes>"
            ],
            "image/png": "[encoded data removed]"
          },
          "metadata": {}
        }
      ]
    },
    {
      "cell_type": "markdown",
      "source": [
        "## 2. Build a PyTorch model by subclassing `nn.Module`.\n",
        "  * Inside should be a randomly initialized `nn.Parameter()` with `requires_grad=True`, one for `weights` and one for `bias`.\n",
        "  * Implement the `forward()` method to compute the linear regression function you used to create the dataset in 1.\n",
        "  * Once you've constructed the model, make an instance of it and check its `state_dict()`.\n",
        "  * **Note:** If you'd like to use `nn.Linear()` instead of `nn.Parameter()` you can."
      ],
      "metadata": {
        "id": "ImZoe3v8jif8"
      }
    },
    {
      "cell_type": "code",
      "source": [
        "# Create PyTorch linear regression model by subclassing nn.Module\n",
        "class LinearRegressionModel(nn.Module):\n",
        "  def __init__(self):\n",
        "      super().__init__()\n",
        "      self.bias = nn.Parameter(torch.rand(1,dtype=torch.float,requires_grad=True))\n",
        "      self.weights = nn.Parameter(torch.rand(1,dtype=torch.float,requires_grad=True))\n",
        "\n",
        "  def forward(self, x: torch.Tensor) -> torch.Tensor: # <- \"x\" is the input data (e.g. training/testing features)\n",
        "      return self.weights * x + self.bias\n",
        "\n",
        "\n",
        "\n",
        "\n"
      ],
      "metadata": {
        "id": "qzd__Y5rjtB8"
      },
      "execution_count": 6,
      "outputs": []
    },
    {
      "cell_type": "code",
      "source": [
        "# Instantiate the model and put it to the target device\n",
        "torch.manual_seed(42)\n",
        "model_0 = LinearRegressionModel()\n",
        "list(model_0.parameters())"
      ],
      "metadata": {
        "id": "5LdcDnmOmyQ2",
        "outputId": "04f607be-bd9f-4c87-e28f-e9f466787ce4",
        "colab": {
          "base_uri": "https://localhost:8080/"
        }
      },
      "execution_count": 7,
      "outputs": [
        {
          "output_type": "execute_result",
          "data": {
            "text/plain": [
              "[Parameter containing:\n",
              " tensor([0.8823], requires_grad=True),\n",
              " Parameter containing:\n",
              " tensor([0.9150], requires_grad=True)]"
            ]
          },
          "metadata": {},
          "execution_count": 7
        }
      ]
    },
    {
      "cell_type": "markdown",
      "source": [
        "## 3. Create a loss function and optimizer using `nn.L1Loss()` and `torch.optim.SGD(params, lr)` respectively.\n",
        "  * Set the learning rate of the optimizer to be 0.01 and the parameters to optimize should be the model parameters from the model you created in 2.\n",
        "  * Write a training loop to perform the appropriate training steps for 300 epochs.\n",
        "  * The training loop should test the model on the test dataset every 20 epochs."
      ],
      "metadata": {
        "id": "G6nYOrJhjtfu"
      }
    },
    {
      "cell_type": "code",
      "source": [
        "# Create the loss function and optimizer\n",
        "loss_fn = nn.L1Loss()\n",
        "\n",
        "optimizer = torch.optim.SGD(params =model_0.parameters(), lr=0.01)"
      ],
      "metadata": {
        "id": "ltvoZ-FWjv1j"
      },
      "execution_count": 8,
      "outputs": []
    },
    {
      "cell_type": "code",
      "source": [
        "# Training loop\n",
        "\n",
        "\n",
        "# Train model for 300 epochs\n",
        "epochs = 300\n",
        "\n",
        "# Send data to target device\n",
        "epoch_count = []\n",
        "train_lost = []\n",
        "test_lost = []\n",
        "\n",
        "for epoch in range(epochs):\n",
        "  ### Training\n",
        "\n",
        "  # Put model in train mode\n",
        "  model_0.train()\n",
        "\n",
        "  # 1. Forward pass\n",
        "  y_pred = model_0(X_train)\n",
        "\n",
        "  # 2. Calculate loss\n",
        "  loss = loss_fn(y_pred,y_train)\n",
        "\n",
        "  # 3. Zero gradients\n",
        "  optimizer.zero_grad()\n",
        "\n",
        "  # 4. Backpropagation\n",
        "  loss.backward()\n",
        "\n",
        "  # 5. Step the optimizer\n",
        "  optimizer.step()\n",
        "\n",
        "  model_0.eval()\n",
        "  ### Perform testing every 20 epochs\n",
        "\n",
        "  with torch.inference_mode():\n",
        "\n",
        "\n",
        "\n",
        "    # Put model in evaluation mode and setup inference context\n",
        "\n",
        "      # 1. Forward pass\n",
        "      y_pred_test = model_0(y_test)\n",
        "      # 2. Calculate test loss\n",
        "      test_loss = loss_fn(y_pred_test,y_test.type(torch.float))\n",
        "      if epoch % 20 == 0:\n",
        "          epoch_count.append(epoch)\n",
        "          train_lost.append(loss.detach().numpy())\n",
        "          test_lost.append(test_loss.detach().numpy())\n",
        "\n",
        "      # Print out what's happening\n",
        "\n",
        "      print(f\"Epoch: {epoch} | Train loss: {loss:.3f} | Test loss: {test_loss:.3f}\")\n",
        "\n",
        ""
      ],
      "metadata": {
        "id": "xpE83NvNnkdV",
        "outputId": "a351da55-e0eb-4a88-f84f-4e6029ff4ef2",
        "colab": {
          "base_uri": "https://localhost:8080/"
        }
      },
      "execution_count": 9,
      "outputs": [
        {
          "output_type": "stream",
          "name": "stdout",
          "text": [
            "Epoch: 0 | Train loss: 0.226 | Test loss: 0.769\n",
            "Epoch: 1 | Train loss: 0.216 | Test loss: 0.756\n",
            "Epoch: 2 | Train loss: 0.207 | Test loss: 0.743\n",
            "Epoch: 3 | Train loss: 0.199 | Test loss: 0.730\n",
            "Epoch: 4 | Train loss: 0.191 | Test loss: 0.718\n",
            "Epoch: 5 | Train loss: 0.184 | Test loss: 0.706\n",
            "Epoch: 6 | Train loss: 0.177 | Test loss: 0.695\n",
            "Epoch: 7 | Train loss: 0.171 | Test loss: 0.684\n",
            "Epoch: 8 | Train loss: 0.165 | Test loss: 0.673\n",
            "Epoch: 9 | Train loss: 0.159 | Test loss: 0.663\n",
            "Epoch: 10 | Train loss: 0.154 | Test loss: 0.653\n",
            "Epoch: 11 | Train loss: 0.150 | Test loss: 0.643\n",
            "Epoch: 12 | Train loss: 0.146 | Test loss: 0.634\n",
            "Epoch: 13 | Train loss: 0.142 | Test loss: 0.624\n",
            "Epoch: 14 | Train loss: 0.138 | Test loss: 0.616\n",
            "Epoch: 15 | Train loss: 0.135 | Test loss: 0.607\n",
            "Epoch: 16 | Train loss: 0.132 | Test loss: 0.599\n",
            "Epoch: 17 | Train loss: 0.129 | Test loss: 0.591\n",
            "Epoch: 18 | Train loss: 0.126 | Test loss: 0.584\n",
            "Epoch: 19 | Train loss: 0.124 | Test loss: 0.576\n",
            "Epoch: 20 | Train loss: 0.121 | Test loss: 0.569\n",
            "Epoch: 21 | Train loss: 0.119 | Test loss: 0.562\n",
            "Epoch: 22 | Train loss: 0.117 | Test loss: 0.556\n",
            "Epoch: 23 | Train loss: 0.115 | Test loss: 0.550\n",
            "Epoch: 24 | Train loss: 0.114 | Test loss: 0.543\n",
            "Epoch: 25 | Train loss: 0.112 | Test loss: 0.538\n",
            "Epoch: 26 | Train loss: 0.111 | Test loss: 0.532\n",
            "Epoch: 27 | Train loss: 0.110 | Test loss: 0.527\n",
            "Epoch: 28 | Train loss: 0.108 | Test loss: 0.521\n",
            "Epoch: 29 | Train loss: 0.107 | Test loss: 0.516\n",
            "Epoch: 30 | Train loss: 0.106 | Test loss: 0.511\n",
            "Epoch: 31 | Train loss: 0.105 | Test loss: 0.507\n",
            "Epoch: 32 | Train loss: 0.104 | Test loss: 0.502\n",
            "Epoch: 33 | Train loss: 0.103 | Test loss: 0.498\n",
            "Epoch: 34 | Train loss: 0.102 | Test loss: 0.494\n",
            "Epoch: 35 | Train loss: 0.102 | Test loss: 0.489\n",
            "Epoch: 36 | Train loss: 0.101 | Test loss: 0.486\n",
            "Epoch: 37 | Train loss: 0.100 | Test loss: 0.482\n",
            "Epoch: 38 | Train loss: 0.100 | Test loss: 0.478\n",
            "Epoch: 39 | Train loss: 0.099 | Test loss: 0.475\n",
            "Epoch: 40 | Train loss: 0.098 | Test loss: 0.471\n",
            "Epoch: 41 | Train loss: 0.098 | Test loss: 0.468\n",
            "Epoch: 42 | Train loss: 0.097 | Test loss: 0.465\n",
            "Epoch: 43 | Train loss: 0.097 | Test loss: 0.462\n",
            "Epoch: 44 | Train loss: 0.096 | Test loss: 0.459\n",
            "Epoch: 45 | Train loss: 0.096 | Test loss: 0.456\n",
            "Epoch: 46 | Train loss: 0.095 | Test loss: 0.453\n",
            "Epoch: 47 | Train loss: 0.095 | Test loss: 0.451\n",
            "Epoch: 48 | Train loss: 0.094 | Test loss: 0.448\n",
            "Epoch: 49 | Train loss: 0.094 | Test loss: 0.445\n",
            "Epoch: 50 | Train loss: 0.094 | Test loss: 0.443\n",
            "Epoch: 51 | Train loss: 0.093 | Test loss: 0.440\n",
            "Epoch: 52 | Train loss: 0.093 | Test loss: 0.438\n",
            "Epoch: 53 | Train loss: 0.092 | Test loss: 0.436\n",
            "Epoch: 54 | Train loss: 0.092 | Test loss: 0.433\n",
            "Epoch: 55 | Train loss: 0.092 | Test loss: 0.431\n",
            "Epoch: 56 | Train loss: 0.091 | Test loss: 0.430\n",
            "Epoch: 57 | Train loss: 0.091 | Test loss: 0.428\n",
            "Epoch: 58 | Train loss: 0.090 | Test loss: 0.426\n",
            "Epoch: 59 | Train loss: 0.090 | Test loss: 0.424\n",
            "Epoch: 60 | Train loss: 0.090 | Test loss: 0.422\n",
            "Epoch: 61 | Train loss: 0.089 | Test loss: 0.420\n",
            "Epoch: 62 | Train loss: 0.089 | Test loss: 0.418\n",
            "Epoch: 63 | Train loss: 0.089 | Test loss: 0.416\n",
            "Epoch: 64 | Train loss: 0.088 | Test loss: 0.414\n",
            "Epoch: 65 | Train loss: 0.088 | Test loss: 0.413\n",
            "Epoch: 66 | Train loss: 0.088 | Test loss: 0.411\n",
            "Epoch: 67 | Train loss: 0.087 | Test loss: 0.409\n",
            "Epoch: 68 | Train loss: 0.087 | Test loss: 0.408\n",
            "Epoch: 69 | Train loss: 0.086 | Test loss: 0.406\n",
            "Epoch: 70 | Train loss: 0.086 | Test loss: 0.405\n",
            "Epoch: 71 | Train loss: 0.086 | Test loss: 0.403\n",
            "Epoch: 72 | Train loss: 0.085 | Test loss: 0.401\n",
            "Epoch: 73 | Train loss: 0.085 | Test loss: 0.400\n",
            "Epoch: 74 | Train loss: 0.085 | Test loss: 0.398\n",
            "Epoch: 75 | Train loss: 0.084 | Test loss: 0.397\n",
            "Epoch: 76 | Train loss: 0.084 | Test loss: 0.395\n",
            "Epoch: 77 | Train loss: 0.084 | Test loss: 0.393\n",
            "Epoch: 78 | Train loss: 0.083 | Test loss: 0.392\n",
            "Epoch: 79 | Train loss: 0.083 | Test loss: 0.390\n",
            "Epoch: 80 | Train loss: 0.083 | Test loss: 0.389\n",
            "Epoch: 81 | Train loss: 0.082 | Test loss: 0.388\n",
            "Epoch: 82 | Train loss: 0.082 | Test loss: 0.386\n",
            "Epoch: 83 | Train loss: 0.082 | Test loss: 0.385\n",
            "Epoch: 84 | Train loss: 0.081 | Test loss: 0.384\n",
            "Epoch: 85 | Train loss: 0.081 | Test loss: 0.382\n",
            "Epoch: 86 | Train loss: 0.081 | Test loss: 0.381\n",
            "Epoch: 87 | Train loss: 0.080 | Test loss: 0.380\n",
            "Epoch: 88 | Train loss: 0.080 | Test loss: 0.379\n",
            "Epoch: 89 | Train loss: 0.080 | Test loss: 0.377\n",
            "Epoch: 90 | Train loss: 0.079 | Test loss: 0.376\n",
            "Epoch: 91 | Train loss: 0.079 | Test loss: 0.375\n",
            "Epoch: 92 | Train loss: 0.079 | Test loss: 0.373\n",
            "Epoch: 93 | Train loss: 0.078 | Test loss: 0.372\n",
            "Epoch: 94 | Train loss: 0.078 | Test loss: 0.371\n",
            "Epoch: 95 | Train loss: 0.078 | Test loss: 0.370\n",
            "Epoch: 96 | Train loss: 0.077 | Test loss: 0.369\n",
            "Epoch: 97 | Train loss: 0.077 | Test loss: 0.367\n",
            "Epoch: 98 | Train loss: 0.076 | Test loss: 0.366\n",
            "Epoch: 99 | Train loss: 0.076 | Test loss: 0.364\n",
            "Epoch: 100 | Train loss: 0.076 | Test loss: 0.363\n",
            "Epoch: 101 | Train loss: 0.075 | Test loss: 0.362\n",
            "Epoch: 102 | Train loss: 0.075 | Test loss: 0.361\n",
            "Epoch: 103 | Train loss: 0.075 | Test loss: 0.360\n",
            "Epoch: 104 | Train loss: 0.074 | Test loss: 0.358\n",
            "Epoch: 105 | Train loss: 0.074 | Test loss: 0.357\n",
            "Epoch: 106 | Train loss: 0.074 | Test loss: 0.355\n",
            "Epoch: 107 | Train loss: 0.073 | Test loss: 0.354\n",
            "Epoch: 108 | Train loss: 0.073 | Test loss: 0.353\n",
            "Epoch: 109 | Train loss: 0.073 | Test loss: 0.352\n",
            "Epoch: 110 | Train loss: 0.072 | Test loss: 0.351\n",
            "Epoch: 111 | Train loss: 0.072 | Test loss: 0.349\n",
            "Epoch: 112 | Train loss: 0.072 | Test loss: 0.348\n",
            "Epoch: 113 | Train loss: 0.071 | Test loss: 0.347\n",
            "Epoch: 114 | Train loss: 0.071 | Test loss: 0.345\n",
            "Epoch: 115 | Train loss: 0.071 | Test loss: 0.344\n",
            "Epoch: 116 | Train loss: 0.070 | Test loss: 0.343\n",
            "Epoch: 117 | Train loss: 0.070 | Test loss: 0.342\n",
            "Epoch: 118 | Train loss: 0.070 | Test loss: 0.340\n",
            "Epoch: 119 | Train loss: 0.069 | Test loss: 0.339\n",
            "Epoch: 120 | Train loss: 0.069 | Test loss: 0.338\n",
            "Epoch: 121 | Train loss: 0.069 | Test loss: 0.336\n",
            "Epoch: 122 | Train loss: 0.068 | Test loss: 0.335\n",
            "Epoch: 123 | Train loss: 0.068 | Test loss: 0.334\n",
            "Epoch: 124 | Train loss: 0.068 | Test loss: 0.333\n",
            "Epoch: 125 | Train loss: 0.067 | Test loss: 0.331\n",
            "Epoch: 126 | Train loss: 0.067 | Test loss: 0.330\n",
            "Epoch: 127 | Train loss: 0.067 | Test loss: 0.329\n",
            "Epoch: 128 | Train loss: 0.066 | Test loss: 0.327\n",
            "Epoch: 129 | Train loss: 0.066 | Test loss: 0.326\n",
            "Epoch: 130 | Train loss: 0.066 | Test loss: 0.325\n",
            "Epoch: 131 | Train loss: 0.065 | Test loss: 0.324\n",
            "Epoch: 132 | Train loss: 0.065 | Test loss: 0.322\n",
            "Epoch: 133 | Train loss: 0.064 | Test loss: 0.321\n",
            "Epoch: 134 | Train loss: 0.064 | Test loss: 0.320\n",
            "Epoch: 135 | Train loss: 0.064 | Test loss: 0.318\n",
            "Epoch: 136 | Train loss: 0.063 | Test loss: 0.317\n",
            "Epoch: 137 | Train loss: 0.063 | Test loss: 0.316\n",
            "Epoch: 138 | Train loss: 0.063 | Test loss: 0.315\n",
            "Epoch: 139 | Train loss: 0.062 | Test loss: 0.313\n",
            "Epoch: 140 | Train loss: 0.062 | Test loss: 0.312\n",
            "Epoch: 141 | Train loss: 0.062 | Test loss: 0.311\n",
            "Epoch: 142 | Train loss: 0.061 | Test loss: 0.309\n",
            "Epoch: 143 | Train loss: 0.061 | Test loss: 0.308\n",
            "Epoch: 144 | Train loss: 0.061 | Test loss: 0.307\n",
            "Epoch: 145 | Train loss: 0.060 | Test loss: 0.306\n",
            "Epoch: 146 | Train loss: 0.060 | Test loss: 0.305\n",
            "Epoch: 147 | Train loss: 0.060 | Test loss: 0.303\n",
            "Epoch: 148 | Train loss: 0.059 | Test loss: 0.302\n",
            "Epoch: 149 | Train loss: 0.059 | Test loss: 0.301\n",
            "Epoch: 150 | Train loss: 0.059 | Test loss: 0.299\n",
            "Epoch: 151 | Train loss: 0.058 | Test loss: 0.298\n",
            "Epoch: 152 | Train loss: 0.058 | Test loss: 0.297\n",
            "Epoch: 153 | Train loss: 0.058 | Test loss: 0.296\n",
            "Epoch: 154 | Train loss: 0.057 | Test loss: 0.294\n",
            "Epoch: 155 | Train loss: 0.057 | Test loss: 0.293\n",
            "Epoch: 156 | Train loss: 0.057 | Test loss: 0.292\n",
            "Epoch: 157 | Train loss: 0.056 | Test loss: 0.290\n",
            "Epoch: 158 | Train loss: 0.056 | Test loss: 0.289\n",
            "Epoch: 159 | Train loss: 0.056 | Test loss: 0.288\n",
            "Epoch: 160 | Train loss: 0.055 | Test loss: 0.287\n",
            "Epoch: 161 | Train loss: 0.055 | Test loss: 0.285\n",
            "Epoch: 162 | Train loss: 0.055 | Test loss: 0.284\n",
            "Epoch: 163 | Train loss: 0.054 | Test loss: 0.283\n",
            "Epoch: 164 | Train loss: 0.054 | Test loss: 0.282\n",
            "Epoch: 165 | Train loss: 0.054 | Test loss: 0.280\n",
            "Epoch: 166 | Train loss: 0.053 | Test loss: 0.279\n",
            "Epoch: 167 | Train loss: 0.053 | Test loss: 0.278\n",
            "Epoch: 168 | Train loss: 0.053 | Test loss: 0.276\n",
            "Epoch: 169 | Train loss: 0.052 | Test loss: 0.275\n",
            "Epoch: 170 | Train loss: 0.052 | Test loss: 0.274\n",
            "Epoch: 171 | Train loss: 0.051 | Test loss: 0.273\n",
            "Epoch: 172 | Train loss: 0.051 | Test loss: 0.271\n",
            "Epoch: 173 | Train loss: 0.051 | Test loss: 0.270\n",
            "Epoch: 174 | Train loss: 0.050 | Test loss: 0.269\n",
            "Epoch: 175 | Train loss: 0.050 | Test loss: 0.267\n",
            "Epoch: 176 | Train loss: 0.050 | Test loss: 0.266\n",
            "Epoch: 177 | Train loss: 0.049 | Test loss: 0.265\n",
            "Epoch: 178 | Train loss: 0.049 | Test loss: 0.264\n",
            "Epoch: 179 | Train loss: 0.049 | Test loss: 0.263\n",
            "Epoch: 180 | Train loss: 0.048 | Test loss: 0.261\n",
            "Epoch: 181 | Train loss: 0.048 | Test loss: 0.260\n",
            "Epoch: 182 | Train loss: 0.048 | Test loss: 0.258\n",
            "Epoch: 183 | Train loss: 0.047 | Test loss: 0.257\n",
            "Epoch: 184 | Train loss: 0.047 | Test loss: 0.256\n",
            "Epoch: 185 | Train loss: 0.047 | Test loss: 0.255\n",
            "Epoch: 186 | Train loss: 0.046 | Test loss: 0.254\n",
            "Epoch: 187 | Train loss: 0.046 | Test loss: 0.252\n",
            "Epoch: 188 | Train loss: 0.046 | Test loss: 0.251\n",
            "Epoch: 189 | Train loss: 0.045 | Test loss: 0.249\n",
            "Epoch: 190 | Train loss: 0.045 | Test loss: 0.248\n",
            "Epoch: 191 | Train loss: 0.045 | Test loss: 0.247\n",
            "Epoch: 192 | Train loss: 0.044 | Test loss: 0.246\n",
            "Epoch: 193 | Train loss: 0.044 | Test loss: 0.245\n",
            "Epoch: 194 | Train loss: 0.044 | Test loss: 0.243\n",
            "Epoch: 195 | Train loss: 0.043 | Test loss: 0.242\n",
            "Epoch: 196 | Train loss: 0.043 | Test loss: 0.241\n",
            "Epoch: 197 | Train loss: 0.043 | Test loss: 0.239\n",
            "Epoch: 198 | Train loss: 0.042 | Test loss: 0.238\n",
            "Epoch: 199 | Train loss: 0.042 | Test loss: 0.237\n",
            "Epoch: 200 | Train loss: 0.042 | Test loss: 0.236\n",
            "Epoch: 201 | Train loss: 0.041 | Test loss: 0.234\n",
            "Epoch: 202 | Train loss: 0.041 | Test loss: 0.233\n",
            "Epoch: 203 | Train loss: 0.041 | Test loss: 0.232\n",
            "Epoch: 204 | Train loss: 0.040 | Test loss: 0.230\n",
            "Epoch: 205 | Train loss: 0.040 | Test loss: 0.229\n",
            "Epoch: 206 | Train loss: 0.039 | Test loss: 0.228\n",
            "Epoch: 207 | Train loss: 0.039 | Test loss: 0.227\n",
            "Epoch: 208 | Train loss: 0.039 | Test loss: 0.225\n",
            "Epoch: 209 | Train loss: 0.038 | Test loss: 0.224\n",
            "Epoch: 210 | Train loss: 0.038 | Test loss: 0.223\n",
            "Epoch: 211 | Train loss: 0.038 | Test loss: 0.221\n",
            "Epoch: 212 | Train loss: 0.037 | Test loss: 0.220\n",
            "Epoch: 213 | Train loss: 0.037 | Test loss: 0.219\n",
            "Epoch: 214 | Train loss: 0.037 | Test loss: 0.218\n",
            "Epoch: 215 | Train loss: 0.036 | Test loss: 0.216\n",
            "Epoch: 216 | Train loss: 0.036 | Test loss: 0.215\n",
            "Epoch: 217 | Train loss: 0.036 | Test loss: 0.214\n",
            "Epoch: 218 | Train loss: 0.035 | Test loss: 0.212\n",
            "Epoch: 219 | Train loss: 0.035 | Test loss: 0.211\n",
            "Epoch: 220 | Train loss: 0.035 | Test loss: 0.210\n",
            "Epoch: 221 | Train loss: 0.034 | Test loss: 0.209\n",
            "Epoch: 222 | Train loss: 0.034 | Test loss: 0.207\n",
            "Epoch: 223 | Train loss: 0.034 | Test loss: 0.206\n",
            "Epoch: 224 | Train loss: 0.033 | Test loss: 0.205\n",
            "Epoch: 225 | Train loss: 0.033 | Test loss: 0.203\n",
            "Epoch: 226 | Train loss: 0.033 | Test loss: 0.202\n",
            "Epoch: 227 | Train loss: 0.032 | Test loss: 0.201\n",
            "Epoch: 228 | Train loss: 0.032 | Test loss: 0.200\n",
            "Epoch: 229 | Train loss: 0.032 | Test loss: 0.199\n",
            "Epoch: 230 | Train loss: 0.031 | Test loss: 0.197\n",
            "Epoch: 231 | Train loss: 0.031 | Test loss: 0.196\n",
            "Epoch: 232 | Train loss: 0.031 | Test loss: 0.195\n",
            "Epoch: 233 | Train loss: 0.030 | Test loss: 0.193\n",
            "Epoch: 234 | Train loss: 0.030 | Test loss: 0.192\n",
            "Epoch: 235 | Train loss: 0.030 | Test loss: 0.191\n",
            "Epoch: 236 | Train loss: 0.029 | Test loss: 0.190\n",
            "Epoch: 237 | Train loss: 0.029 | Test loss: 0.188\n",
            "Epoch: 238 | Train loss: 0.029 | Test loss: 0.187\n",
            "Epoch: 239 | Train loss: 0.028 | Test loss: 0.186\n",
            "Epoch: 240 | Train loss: 0.028 | Test loss: 0.184\n",
            "Epoch: 241 | Train loss: 0.027 | Test loss: 0.183\n",
            "Epoch: 242 | Train loss: 0.027 | Test loss: 0.182\n",
            "Epoch: 243 | Train loss: 0.027 | Test loss: 0.181\n",
            "Epoch: 244 | Train loss: 0.026 | Test loss: 0.179\n",
            "Epoch: 245 | Train loss: 0.026 | Test loss: 0.178\n",
            "Epoch: 246 | Train loss: 0.026 | Test loss: 0.177\n",
            "Epoch: 247 | Train loss: 0.025 | Test loss: 0.176\n",
            "Epoch: 248 | Train loss: 0.025 | Test loss: 0.174\n",
            "Epoch: 249 | Train loss: 0.025 | Test loss: 0.173\n",
            "Epoch: 250 | Train loss: 0.024 | Test loss: 0.172\n",
            "Epoch: 251 | Train loss: 0.024 | Test loss: 0.170\n",
            "Epoch: 252 | Train loss: 0.024 | Test loss: 0.169\n",
            "Epoch: 253 | Train loss: 0.023 | Test loss: 0.168\n",
            "Epoch: 254 | Train loss: 0.023 | Test loss: 0.167\n",
            "Epoch: 255 | Train loss: 0.023 | Test loss: 0.165\n",
            "Epoch: 256 | Train loss: 0.022 | Test loss: 0.164\n",
            "Epoch: 257 | Train loss: 0.022 | Test loss: 0.163\n",
            "Epoch: 258 | Train loss: 0.022 | Test loss: 0.161\n",
            "Epoch: 259 | Train loss: 0.021 | Test loss: 0.160\n",
            "Epoch: 260 | Train loss: 0.021 | Test loss: 0.159\n",
            "Epoch: 261 | Train loss: 0.021 | Test loss: 0.158\n",
            "Epoch: 262 | Train loss: 0.020 | Test loss: 0.157\n",
            "Epoch: 263 | Train loss: 0.020 | Test loss: 0.155\n",
            "Epoch: 264 | Train loss: 0.020 | Test loss: 0.154\n",
            "Epoch: 265 | Train loss: 0.019 | Test loss: 0.152\n",
            "Epoch: 266 | Train loss: 0.019 | Test loss: 0.151\n",
            "Epoch: 267 | Train loss: 0.019 | Test loss: 0.150\n",
            "Epoch: 268 | Train loss: 0.018 | Test loss: 0.149\n",
            "Epoch: 269 | Train loss: 0.018 | Test loss: 0.148\n",
            "Epoch: 270 | Train loss: 0.018 | Test loss: 0.146\n",
            "Epoch: 271 | Train loss: 0.017 | Test loss: 0.145\n",
            "Epoch: 272 | Train loss: 0.017 | Test loss: 0.143\n",
            "Epoch: 273 | Train loss: 0.017 | Test loss: 0.142\n",
            "Epoch: 274 | Train loss: 0.016 | Test loss: 0.141\n",
            "Epoch: 275 | Train loss: 0.016 | Test loss: 0.140\n",
            "Epoch: 276 | Train loss: 0.016 | Test loss: 0.139\n",
            "Epoch: 277 | Train loss: 0.015 | Test loss: 0.137\n",
            "Epoch: 278 | Train loss: 0.015 | Test loss: 0.136\n",
            "Epoch: 279 | Train loss: 0.014 | Test loss: 0.135\n",
            "Epoch: 280 | Train loss: 0.014 | Test loss: 0.133\n",
            "Epoch: 281 | Train loss: 0.014 | Test loss: 0.132\n",
            "Epoch: 282 | Train loss: 0.013 | Test loss: 0.131\n",
            "Epoch: 283 | Train loss: 0.013 | Test loss: 0.130\n",
            "Epoch: 284 | Train loss: 0.013 | Test loss: 0.128\n",
            "Epoch: 285 | Train loss: 0.012 | Test loss: 0.127\n",
            "Epoch: 286 | Train loss: 0.012 | Test loss: 0.126\n",
            "Epoch: 287 | Train loss: 0.012 | Test loss: 0.124\n",
            "Epoch: 288 | Train loss: 0.011 | Test loss: 0.123\n",
            "Epoch: 289 | Train loss: 0.011 | Test loss: 0.122\n",
            "Epoch: 290 | Train loss: 0.011 | Test loss: 0.121\n",
            "Epoch: 291 | Train loss: 0.010 | Test loss: 0.119\n",
            "Epoch: 292 | Train loss: 0.010 | Test loss: 0.118\n",
            "Epoch: 293 | Train loss: 0.010 | Test loss: 0.117\n",
            "Epoch: 294 | Train loss: 0.009 | Test loss: 0.115\n",
            "Epoch: 295 | Train loss: 0.009 | Test loss: 0.114\n",
            "Epoch: 296 | Train loss: 0.009 | Test loss: 0.113\n",
            "Epoch: 297 | Train loss: 0.008 | Test loss: 0.112\n",
            "Epoch: 298 | Train loss: 0.008 | Test loss: 0.110\n",
            "Epoch: 299 | Train loss: 0.008 | Test loss: 0.109\n"
          ]
        }
      ]
    },
    {
      "cell_type": "code",
      "source": [
        "# Plot the loss curves\n",
        "plt.plot(epoch_count,train_lost,label='train')\n",
        "plt.plot(epoch_count,test_lost, label='test')\n",
        "plt.legend()\n",
        "plt.show()"
      ],
      "metadata": {
        "id": "blW2f12MWB2B",
        "outputId": "efed1856-bd18-4817-e920-65a1cc8a6bfd",
        "colab": {
          "base_uri": "https://localhost:8080/",
          "height": 432
        }
      },
      "execution_count": 16,
      "outputs": [
        {
          "output_type": "display_data",
          "data": {
            "text/plain": [
              "<Figure size 640x480 with 1 Axes>"
            ],
            "image/png": "[encoded data removed]"
          },
          "metadata": {}
        }
      ]
    },
    {
      "cell_type": "markdown",
      "source": [
        "## 4. Make predictions with the trained model on the test data.\n",
        "  * Visualize these predictions against the original training and testing data (**note:** you may need to make sure the predictions are *not* on the GPU if you want to use non-CUDA-enabled libraries such as matplotlib to plot)."
      ],
      "metadata": {
        "id": "x4j4TM18jwa7"
      }
    },
    {
      "cell_type": "code",
      "source": [
        "# Make predictions with the model\n",
        "print(model_0.state_dict())\n",
        "model_0.eval()\n",
        "with torch.inference_mode():\n",
        "  preds = model_0(X_test)\n",
        "\n",
        "preds"
      ],
      "metadata": {
        "id": "bbMPK5Qjjyx_",
        "outputId": "5a0e461a-07ca-4bcc-e10a-40eddb183135",
        "colab": {
          "base_uri": "https://localhost:8080/"
        }
      },
      "execution_count": 30,
      "outputs": [
        {
          "output_type": "stream",
          "name": "stdout",
          "text": [
            "OrderedDict([('bias', tensor([0.8848])), ('weights', tensor([0.3363]))])\n"
          ]
        },
        {
          "output_type": "execute_result",
          "data": {
            "text/plain": [
              "tensor([[1.1538],\n",
              "        [1.1572],\n",
              "        [1.1605],\n",
              "        [1.1639],\n",
              "        [1.1673],\n",
              "        [1.1706],\n",
              "        [1.1740],\n",
              "        [1.1773],\n",
              "        [1.1807],\n",
              "        [1.1841],\n",
              "        [1.1874],\n",
              "        [1.1908],\n",
              "        [1.1942],\n",
              "        [1.1975],\n",
              "        [1.2009],\n",
              "        [1.2042],\n",
              "        [1.2076],\n",
              "        [1.2110],\n",
              "        [1.2143],\n",
              "        [1.2177]])"
            ]
          },
          "metadata": {},
          "execution_count": 30
        }
      ]
    },
    {
      "cell_type": "code",
      "source": [
        "# Plot the predictions (these may need to be on a specific device)\n",
        "plt.scatter(X_test,y_test)\n",
        "plt.scatter(X_test,preds.cpu())"
      ],
      "metadata": {
        "id": "K3BdmQaDpFo8",
        "outputId": "12262f7f-f40e-460a-e688-a25e9b269f51",
        "colab": {
          "base_uri": "https://localhost:8080/",
          "height": 447
        }
      },
      "execution_count": 27,
      "outputs": [
        {
          "output_type": "execute_result",
          "data": {
            "text/plain": [
              "<matplotlib.collections.PathCollection at 0x7e3d520dd310>"
            ]
          },
          "metadata": {},
          "execution_count": 27
        },
        {
          "output_type": "display_data",
          "data": {
            "text/plain": [
              "<Figure size 640x480 with 1 Axes>"
            ],
            "image/png": "[encoded data removed]"
          },
          "metadata": {}
        }
      ]
    },
    {
      "cell_type": "markdown",
      "source": [
        "## 5. Save your trained model's `state_dict()` to file.\n",
        "  * Create a new instance of your model class you made in 2. and load in the `state_dict()` you just saved to it.\n",
        "  * Perform predictions on your test data with the loaded model and confirm they match the original model predictions from 4."
      ],
      "metadata": {
        "id": "s2OnlMWKjzX8"
      }
    },
    {
      "cell_type": "code",
      "source": [
        "from pathlib import Path\n",
        "\n",
        "# 1. Create models directory\n",
        "\n",
        "\n",
        "# 2. Create model save path\n",
        "\n",
        "# 3. Save the model state dict\n"
      ],
      "metadata": {
        "id": "hgxhgD14qr-i"
      },
      "execution_count": 13,
      "outputs": []
    },
    {
      "cell_type": "code",
      "source": [
        "# Create new instance of model and load saved state dict (make sure to put it on the target device)\n"
      ],
      "metadata": {
        "id": "P9vTgiLRrJ7T"
      },
      "execution_count": 14,
      "outputs": []
    },
    {
      "cell_type": "code",
      "source": [
        "# Make predictions with loaded model and compare them to the previous\n"
      ],
      "metadata": {
        "id": "8UGX3VebrVtI"
      },
      "execution_count": 15,
      "outputs": []
    }
  ]
}